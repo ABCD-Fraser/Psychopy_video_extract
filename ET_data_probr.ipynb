{
 "cells": [
  {
   "cell_type": "code",
   "execution_count": 29,
   "metadata": {},
   "outputs": [],
   "source": [
    "import pandas as pd\n",
    "\n",
    "\n",
    "wc_data = pd.read_csv('data/0601_webcam_data.csv')\n",
    "psy_data = pd.read_csv('data/0601_mag_comparison_numeral_2023-02-06_16h57.47.462.csv')\n",
    "psy_data = psy_data[(psy_data['target_duration_90'] == 0) & (psy_data['display']=='trial')] \n",
    "\n",
    "\n",
    "zero_point = psy_data['fixation.started'].iloc[0]\n",
    "\n",
    "left_time_psy_data = pd.DataFrame()\n",
    "left_time_psy_data['fix_start'] = psy_data['fixation.started']\n",
    "left_time_psy_data['synced_time'] = psy_data['fixation.started'] - zero_point\n",
    "left_time_psy_data['left_roi_on'] = psy_data['roi_left.timesOn']\n",
    "left_time_psy_data['left_roi_off'] = psy_data['roi_left.timesOff']\n",
    "\n",
    "\n",
    "right_time_psy_data = pd.DataFrame()\n",
    "right_time_psy_data['fix_start'] = psy_data['fixation.started']\n",
    "right_time_psy_data['synced_time'] = psy_data['fixation.started'] - zero_point\n",
    "right_time_psy_data['right_roi_on'] = psy_data['roi_right.timesOn']\n",
    "right_time_psy_data['right_roi_off'] = psy_data['roi_right.timesOff']\n",
    "\n",
    "\n",
    "centre_time_psy_data = pd.DataFrame()\n",
    "centre_time_psy_data['fix_start'] = psy_data['fixation.started']\n",
    "centre_time_psy_data['synced_time'] = psy_data['fixation.started'] - zero_point\n",
    "centre_time_psy_data['centre_roi_on'] = psy_data['roi_centre.timesOn']\n",
    "centre_time_psy_data['centre_roi_off'] = psy_data['roi_centre.timesOff']\n",
    "\n",
    "\n",
    "\n",
    "\n",
    "\n"
   ]
  },
  {
   "cell_type": "code",
   "execution_count": 20,
   "metadata": {},
   "outputs": [
    {
     "data": {
      "text/plain": [
       "1                        [1.2228161999955773]\n",
       "2                                         NaN\n",
       "3                        [1.2917035999707878]\n",
       "4                                         NaN\n",
       "5     [1.4118546000681818, 1.477697900030762]\n",
       "                       ...                   \n",
       "68                        [2.031556300120428]\n",
       "69                       [1.4104907000437379]\n",
       "70                       [1.3496497001033276]\n",
       "71    [1.3558688000775874, 1.813837100053206]\n",
       "72                       [1.3072075000964105]\n",
       "Name: roi_left.timesOn, Length: 72, dtype: object"
      ]
     },
     "execution_count": 20,
     "metadata": {},
     "output_type": "execute_result"
    }
   ],
   "source": [
    "psy_data['roi_left.timesOn']"
   ]
  },
  {
   "cell_type": "code",
   "execution_count": null,
   "metadata": {},
   "outputs": [],
   "source": []
  }
 ],
 "metadata": {
  "kernelspec": {
   "display_name": "gazescorer",
   "language": "python",
   "name": "python3"
  },
  "language_info": {
   "codemirror_mode": {
    "name": "ipython",
    "version": 3
   },
   "file_extension": ".py",
   "mimetype": "text/x-python",
   "name": "python",
   "nbconvert_exporter": "python",
   "pygments_lexer": "ipython3",
   "version": "3.9.12"
  },
  "orig_nbformat": 4
 },
 "nbformat": 4,
 "nbformat_minor": 2
}
