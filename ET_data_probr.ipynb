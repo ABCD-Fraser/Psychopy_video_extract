{
 "cells": [
  {
   "attachments": {},
   "cell_type": "markdown",
   "metadata": {},
   "source": [
    "## Set up data frames\n",
    "\n",
    "- Set up new repo: pscyhopy_video_extract\n",
    "- Added in data folder with pid 0601 to test with\n",
    "- Set up Jupyter notebook to probe data\n",
    "- Read in psychopy data\n",
    "- Remove rows that do not have ‘trial’ as display.\n",
    "- Remove rows from block 2 (data not recorded :’( …)\n",
    "- Using fixation start as timepoint, create a zeroed timestamp column. \n",
    "- Create 3 data frames for left/right/centre"
   ]
  },
  {
   "cell_type": "code",
   "execution_count": 29,
   "metadata": {},
   "outputs": [],
   "source": [
    "import pandas as pd\n",
    "\n",
    "\n",
    "# Set up data files and select block 1 data. \n",
    "wc_data = pd.read_csv('data/0601_webcam_data.csv')\n",
    "psy_data = pd.read_csv('data/0601_mag_comparison_numeral_2023-02-06_16h57.47.462.csv')\n",
    "psy_data = psy_data[(psy_data['target_duration_90'] == 0) & (psy_data['display']=='trial')] \n",
    "\n",
    "# Get first fixation timestamp to act as 0 value\n",
    "zero_point = psy_data['fixation.started'].iloc[0]\n",
    "\n",
    "#Create df for each orientation\n",
    "left_time_psy_data = pd.DataFrame()\n",
    "left_time_psy_data['fix_start'] = psy_data['fixation.started']\n",
    "left_time_psy_data['synced_time'] = psy_data['fixation.started'] - zero_point\n",
    "left_time_psy_data['left_roi_on'] = psy_data['roi_left.timesOn']\n",
    "left_time_psy_data['left_roi_off'] = psy_data['roi_left.timesOff']\n",
    "\n",
    "\n",
    "right_time_psy_data = pd.DataFrame()\n",
    "right_time_psy_data['fix_start'] = psy_data['fixation.started']\n",
    "right_time_psy_data['synced_time'] = psy_data['fixation.started'] - zero_point\n",
    "right_time_psy_data['right_roi_on'] = psy_data['roi_right.timesOn']\n",
    "right_time_psy_data['right_roi_off'] = psy_data['roi_right.timesOff']\n",
    "\n",
    "\n",
    "centre_time_psy_data = pd.DataFrame()\n",
    "centre_time_psy_data['fix_start'] = psy_data['fixation.started']\n",
    "centre_time_psy_data['synced_time'] = psy_data['fixation.started'] - zero_point\n",
    "centre_time_psy_data['centre_roi_on'] = psy_data['roi_centre.timesOn']\n",
    "centre_time_psy_data['centre_roi_off'] = psy_data['roi_centre.timesOff']\n",
    "\n"
   ]
  },
  {
   "attachments": {},
   "cell_type": "markdown",
   "metadata": {},
   "source": [
    "## Loop through data frames and get times\n",
    "\n",
    "- loop through a data frame and access the data\n",
    "- create variable of the on - off times \n",
    "- workout the timestamp for start stop from zeroed values\n",
    "\n"
   ]
  },
  {
   "cell_type": "code",
   "execution_count": null,
   "metadata": {},
   "outputs": [],
   "source": [
    "\n"
   ]
  }
 ],
 "metadata": {
  "kernelspec": {
   "display_name": "gazescorer",
   "language": "python",
   "name": "python3"
  },
  "language_info": {
   "codemirror_mode": {
    "name": "ipython",
    "version": 3
   },
   "file_extension": ".py",
   "mimetype": "text/x-python",
   "name": "python",
   "nbconvert_exporter": "python",
   "pygments_lexer": "ipython3",
   "version": "3.9.12"
  },
  "orig_nbformat": 4
 },
 "nbformat": 4,
 "nbformat_minor": 2
}
